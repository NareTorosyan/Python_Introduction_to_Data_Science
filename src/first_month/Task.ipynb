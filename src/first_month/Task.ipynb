{
 "cells": [
  {
   "cell_type": "code",
   "execution_count": 2,
   "metadata": {
    "collapsed": true,
    "pycharm": {
     "is_executing": false
    }
   },
   "outputs": [
    {
     "data": {
      "text/plain": "[1, 2, 3, 3, 4, 5]"
     },
     "metadata": {},
     "output_type": "execute_result",
     "execution_count": 2
    }
   ],
   "source": [
    "#1 Write a Python program to get the largest number from a list.\n",
    "x = [9,8,5,6,4,3,2,1]\n",
    "x.sort()\n",
    "x[-1]\n",
    "\n",
    "#2 Write a Python program to get the frequency of the given element in a list to. \n",
    "x =[1,2,3,4,5,6,7,8,9,9,9,9,9]\n",
    "x.count(9)\n",
    "\n",
    "#3 Write a Python program to remove the second element from a given list, if we know that the first elements index with that value is n.\n",
    "x= [1,2,3,4,3,5,2]\n",
    "n=1\n",
    "x.sort()\n",
    "x.pop(n+1)\n",
    "x\n",
    "\n",
    "\n",
    "\n"
   ]
  },
  {
   "cell_type": "code",
   "execution_count": null,
   "outputs": [],
   "source": [
    "git   status\n",
    "\n"
   ],
   "metadata": {
    "collapsed": false,
    "pycharm": {
     "name": "#%%\n"
    }
   }
  }
 ],
 "metadata": {
  "kernelspec": {
   "display_name": "Python 3",
   "language": "python",
   "name": "python3"
  },
  "language_info": {
   "codemirror_mode": {
    "name": "ipython",
    "version": 2
   },
   "file_extension": ".py",
   "mimetype": "text/x-python",
   "name": "python",
   "nbconvert_exporter": "python",
   "pygments_lexer": "ipython2",
   "version": "2.7.6"
  },
  "pycharm": {
   "stem_cell": {
    "cell_type": "raw",
    "source": [],
    "metadata": {
     "collapsed": false
    }
   }
  }
 },
 "nbformat": 4,
 "nbformat_minor": 0
}